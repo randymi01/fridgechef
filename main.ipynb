{
 "cells": [
  {
   "cell_type": "code",
   "execution_count": 1,
   "metadata": {},
   "outputs": [],
   "source": [
    "import pandas as pd\n",
    "import json\n",
    "# import pickle\n"
   ]
  },
  {
   "cell_type": "code",
   "execution_count": 3,
   "metadata": {},
   "outputs": [],
   "source": [
    "def openjson(file_name : str):\n",
    "  with open(file_name) as f:\n",
    "    return(json.load(f))\n",
    "  \n",
    "def savejson(json_obj, out_name):\n",
    "  with open(out_name, 'w') as outfile:\n",
    "    json.dump(json_obj, outfile)\n",
    "\n",
    "def combinejson(json_left, json_right, out_name):\n",
    "  savejson(str(json_left) + str(json_right), out_name)\n"
   ]
  },
  {
   "cell_type": "code",
   "execution_count": 4,
   "metadata": {},
   "outputs": [],
   "source": [
    "data = openjson(\"recipes_with_nutritional_info.json\")\n",
    "\n",
    "p1 = data[:int(len(data)/2)]\n",
    "\n",
    "p2 = data[int(len(data)/2)::]"
   ]
  },
  {
   "cell_type": "code",
   "execution_count": 10,
   "metadata": {},
   "outputs": [
    {
     "ename": "AttributeError",
     "evalue": "'str' object has no attribute 'items'",
     "output_type": "error",
     "traceback": [
      "\u001b[1;31m---------------------------------------------------------------------------\u001b[0m",
      "\u001b[1;31mAttributeError\u001b[0m                            Traceback (most recent call last)",
      "Cell \u001b[1;32mIn[10], line 9\u001b[0m\n\u001b[0;32m      6\u001b[0m \u001b[39mdef\u001b[39;00m \u001b[39mrandom_recipe\u001b[39m():    \n\u001b[0;32m      7\u001b[0m     \u001b[39mreturn\u001b[39;00m p1[random_index(\u001b[39mlen\u001b[39m(p1))]\n\u001b[1;32m----> 9\u001b[0m dataframe \u001b[39m=\u001b[39m pd\u001b[39m.\u001b[39;49mDataFrame\u001b[39m.\u001b[39;49mfrom_dict(random_recipe(), orient\u001b[39m=\u001b[39;49m\u001b[39m\"\u001b[39;49m\u001b[39mindex\u001b[39;49m\u001b[39m\"\u001b[39;49m)\n",
      "File \u001b[1;32mc:\\Users\\randymi\\AppData\\Local\\Programs\\Python\\Python310\\lib\\site-packages\\pandas\\core\\frame.py:1748\u001b[0m, in \u001b[0;36mDataFrame.from_dict\u001b[1;34m(cls, data, orient, dtype, columns)\u001b[0m\n\u001b[0;32m   1745\u001b[0m \u001b[39mif\u001b[39;00m \u001b[39mlen\u001b[39m(data) \u001b[39m>\u001b[39m \u001b[39m0\u001b[39m:\n\u001b[0;32m   1746\u001b[0m     \u001b[39m# TODO speed up Series case\u001b[39;00m\n\u001b[0;32m   1747\u001b[0m     \u001b[39mif\u001b[39;00m \u001b[39misinstance\u001b[39m(\u001b[39mlist\u001b[39m(data\u001b[39m.\u001b[39mvalues())[\u001b[39m0\u001b[39m], (Series, \u001b[39mdict\u001b[39m)):\n\u001b[1;32m-> 1748\u001b[0m         data \u001b[39m=\u001b[39m _from_nested_dict(data)\n\u001b[0;32m   1749\u001b[0m     \u001b[39melse\u001b[39;00m:\n\u001b[0;32m   1750\u001b[0m         index \u001b[39m=\u001b[39m \u001b[39mlist\u001b[39m(data\u001b[39m.\u001b[39mkeys())\n",
      "File \u001b[1;32mc:\\Users\\randymi\\AppData\\Local\\Programs\\Python\\Python310\\lib\\site-packages\\pandas\\core\\frame.py:12007\u001b[0m, in \u001b[0;36m_from_nested_dict\u001b[1;34m(data)\u001b[0m\n\u001b[0;32m  12005\u001b[0m new_data: collections\u001b[39m.\u001b[39mdefaultdict \u001b[39m=\u001b[39m collections\u001b[39m.\u001b[39mdefaultdict(\u001b[39mdict\u001b[39m)\n\u001b[0;32m  12006\u001b[0m \u001b[39mfor\u001b[39;00m index, s \u001b[39min\u001b[39;00m data\u001b[39m.\u001b[39mitems():\n\u001b[1;32m> 12007\u001b[0m     \u001b[39mfor\u001b[39;00m col, v \u001b[39min\u001b[39;00m s\u001b[39m.\u001b[39;49mitems():\n\u001b[0;32m  12008\u001b[0m         new_data[col][index] \u001b[39m=\u001b[39m v\n\u001b[0;32m  12009\u001b[0m \u001b[39mreturn\u001b[39;00m new_data\n",
      "\u001b[1;31mAttributeError\u001b[0m: 'str' object has no attribute 'items'"
     ]
    }
   ],
   "source": [
    "\n",
    "import random\n",
    "\n",
    "def random_index(max_index):\n",
    "    return random.randint(0,max_index)\n",
    "\n",
    "def random_recipe():    \n",
    "    return p1[random_index(len(p1))]\n",
    "\n",
    "dataframe = pd.DataFrame.from_dict(random_recipe(), orient=\"index\")\n"
   ]
  },
  {
   "cell_type": "code",
   "execution_count": 6,
   "metadata": {},
   "outputs": [],
   "source": [
    "savejson(p1[:100], \"100recipes.json\")"
   ]
  },
  {
   "cell_type": "code",
   "execution_count": null,
   "metadata": {},
   "outputs": [],
   "source": [
    "# broken\n",
    "files=['my.json','files.json',...,'name.json']\n",
    "\n",
    "def merge_JsonFiles(filename):\n",
    "    result = list()\n",
    "    for f1 in filename:\n",
    "        with open(f1, 'r') as infile:\n",
    "            result.append(json.load(infile))\n",
    "\n",
    "    with open('counseling3.json', 'w') as output_file:\n",
    "        json.dump(result, output_file)\n",
    "\n",
    "merge_JsonFiles(files)"
   ]
  },
  {
   "cell_type": "code",
   "execution_count": 8,
   "metadata": {},
   "outputs": [
    {
     "ename": "TypeError",
     "evalue": "unhashable type: 'list'",
     "output_type": "error",
     "traceback": [
      "\u001b[1;31m---------------------------------------------------------------------------\u001b[0m",
      "\u001b[1;31mTypeError\u001b[0m                                 Traceback (most recent call last)",
      "Cell \u001b[1;32mIn[8], line 3\u001b[0m\n\u001b[0;32m      1\u001b[0m savejson(p1, \u001b[39m\"\u001b[39m\u001b[39mrecipe_p1.json\u001b[39m\u001b[39m\"\u001b[39m)\n\u001b[0;32m      2\u001b[0m savejson(p2, \u001b[39m\"\u001b[39m\u001b[39mrecipe_p2.json\u001b[39m\u001b[39m\"\u001b[39m)\n\u001b[1;32m----> 3\u001b[0m combinejson(p1,p2,\u001b[39m\"\u001b[39;49m\u001b[39mcombined.json\u001b[39;49m\u001b[39m\"\u001b[39;49m)\n",
      "Cell \u001b[1;32mIn[3], line 10\u001b[0m, in \u001b[0;36mcombinejson\u001b[1;34m(json_left, json_right, out_name)\u001b[0m\n\u001b[0;32m      9\u001b[0m \u001b[39mdef\u001b[39;00m \u001b[39mcombinejson\u001b[39m(json_left, json_right, out_name):\n\u001b[1;32m---> 10\u001b[0m   \u001b[39mwith\u001b[39;00m \u001b[39mopen\u001b[39;49m(json_left, \u001b[39m\"\u001b[39;49m\u001b[39mrb\u001b[39;49m\u001b[39m\"\u001b[39;49m) \u001b[39mas\u001b[39;00m left:\n\u001b[0;32m     11\u001b[0m     data_left \u001b[39m=\u001b[39m (json\u001b[39m.\u001b[39mload(left))\n\u001b[0;32m     12\u001b[0m   \u001b[39mwith\u001b[39;00m \u001b[39mopen\u001b[39m(json_right, \u001b[39m\"\u001b[39m\u001b[39mrb\u001b[39m\u001b[39m\"\u001b[39m) \u001b[39mas\u001b[39;00m right:\n",
      "File \u001b[1;32mc:\\Users\\randymi\\AppData\\Local\\Programs\\Python\\Python310\\lib\\site-packages\\IPython\\core\\interactiveshell.py:275\u001b[0m, in \u001b[0;36m_modified_open\u001b[1;34m(file, *args, **kwargs)\u001b[0m\n\u001b[0;32m    273\u001b[0m \u001b[39m@functools\u001b[39m\u001b[39m.\u001b[39mwraps(io_open)\n\u001b[0;32m    274\u001b[0m \u001b[39mdef\u001b[39;00m \u001b[39m_modified_open\u001b[39m(file, \u001b[39m*\u001b[39margs, \u001b[39m*\u001b[39m\u001b[39m*\u001b[39mkwargs):\n\u001b[1;32m--> 275\u001b[0m     \u001b[39mif\u001b[39;00m file \u001b[39min\u001b[39;49;00m {\u001b[39m0\u001b[39;49m, \u001b[39m1\u001b[39;49m, \u001b[39m2\u001b[39;49m}:\n\u001b[0;32m    276\u001b[0m         \u001b[39mraise\u001b[39;00m \u001b[39mValueError\u001b[39;00m(\n\u001b[0;32m    277\u001b[0m             \u001b[39mf\u001b[39m\u001b[39m\"\u001b[39m\u001b[39mIPython won\u001b[39m\u001b[39m'\u001b[39m\u001b[39mt let you open fd=\u001b[39m\u001b[39m{\u001b[39;00mfile\u001b[39m}\u001b[39;00m\u001b[39m by default \u001b[39m\u001b[39m\"\u001b[39m\n\u001b[0;32m    278\u001b[0m             \u001b[39m\"\u001b[39m\u001b[39mas it is likely to crash IPython. If you know what you are doing, \u001b[39m\u001b[39m\"\u001b[39m\n\u001b[0;32m    279\u001b[0m             \u001b[39m\"\u001b[39m\u001b[39myou can use builtins\u001b[39m\u001b[39m'\u001b[39m\u001b[39m open.\u001b[39m\u001b[39m\"\u001b[39m\n\u001b[0;32m    280\u001b[0m         )\n\u001b[0;32m    282\u001b[0m     \u001b[39mreturn\u001b[39;00m io_open(file, \u001b[39m*\u001b[39margs, \u001b[39m*\u001b[39m\u001b[39m*\u001b[39mkwargs)\n",
      "\u001b[1;31mTypeError\u001b[0m: unhashable type: 'list'"
     ]
    }
   ],
   "source": [
    "savejson(p1, \"recipe_p1.json\")\n",
    "savejson(p2, \"recipe_p2.json\")\n",
    "\n"
   ]
  },
  {
   "cell_type": "code",
   "execution_count": null,
   "metadata": {},
   "outputs": [],
   "source": [
    "combinejson(p1,p2,\"combined.json\")"
   ]
  }
 ],
 "metadata": {
  "kernelspec": {
   "display_name": "Python 3",
   "language": "python",
   "name": "python3"
  },
  "language_info": {
   "codemirror_mode": {
    "name": "ipython",
    "version": 3
   },
   "file_extension": ".py",
   "mimetype": "text/x-python",
   "name": "python",
   "nbconvert_exporter": "python",
   "pygments_lexer": "ipython3",
   "version": "3.10.10"
  },
  "orig_nbformat": 4,
  "vscode": {
   "interpreter": {
    "hash": "1c61a917212002c3a9b0cda33794f8fe203a5e15c1684b0bbbc4f0ab6664e445"
   }
  }
 },
 "nbformat": 4,
 "nbformat_minor": 2
}
